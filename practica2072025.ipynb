{
 "cells": [
  {
   "cell_type": "code",
   "execution_count": 14,
   "id": "a4b03a1c",
   "metadata": {},
   "outputs": [],
   "source": [
    "import numpy as np\n",
    "\n",
    "def Gauss_Seidel(A, b, x_0, tol=0.001):\n",
    "    x = x_0.astype(float).copy()\n",
    "    k = 0\n",
    "    while np.linalg.norm(b - A @ x) > tol:   \n",
    "        x_ant = x.copy() \n",
    "        for i in range(len(A)):\n",
    "            s1 = 0\n",
    "            s2 = 0\n",
    "            for j in range(0, i):\n",
    "                s1 += A[i, j] * x[j]  # Valores ya actualizados en esta iteración\n",
    "            for j in range(i + 1, len(A)):\n",
    "                s2 += A[i, j] * x[j]  # CAMBIO: usar x[j] en lugar de x_ant[j]\n",
    "            x[i] = (b[i] - s1 - s2) / A[i, i]\n",
    "        k += 1\n",
    "        print(f\"Iteration {k}: x = {x}, Residual = {np.linalg.norm(b - A @ x)}\")\n",
    "    return x"
   ]
  },
  {
   "cell_type": "code",
   "execution_count": null,
   "id": "c2700fc7",
   "metadata": {},
   "outputs": [
    {
     "name": "stdout",
     "output_type": "stream",
     "text": [
      "Resolviendo el sistema con Gauss-Seidel:\n",
      "Iteration 1: x = [0.01515152 0.02035507 0.04285277], Residual = 2.4385297205159078\n",
      "Iteration 2: x = [-0.02081884  0.02916828  0.04913027], Residual = 0.7255870711919091\n",
      "Iteration 3: x = [-0.03174283  0.03228711  0.05099071], Residual = 0.24730144111541108\n",
      "Iteration 4: x = [-0.03547186  0.0333703   0.05162386], Residual = 0.0855500645759304\n",
      "Iteration 5: x = [-0.03676206  0.03374577  0.05184285], Residual = 0.029641490590417246\n",
      "Iteration 6: x = [-0.0372091   0.03387588  0.05191873], Residual = 0.010271940318114629\n",
      "Iteration 7: x = [-0.03736401  0.03392098  0.05194502], Residual = 0.003559693857828509\n",
      "Iteration 8: x = [-0.0374177   0.0339366   0.05195413], Residual = 0.0012335979213625808\n",
      "Iteration 9: x = [-0.0374363   0.03394202  0.05195729], Residual = 0.000427498598539503\n",
      "Iteration 10: x = [-0.03744275  0.03394389  0.05195838], Residual = 0.00014814799251678908\n",
      "Iteration 11: x = [-0.03744498  0.03394454  0.05195876], Residual = 5.134011622642936e-05\n",
      "Iteration 12: x = [-0.03744576  0.03394477  0.0519589 ], Residual = 1.779171955103869e-05\n",
      "Iteration 13: x = [-0.03744603  0.03394485  0.05195894], Residual = 6.165651888489808e-06\n",
      "Iteration 14: x = [-0.03744612  0.03394488  0.05195896], Residual = 2.136682915949601e-06\n",
      "Iteration 15: x = [-0.03744615  0.03394488  0.05195896], Residual = 7.404592356190499e-07\n",
      "\n",
      "Solucion exacta: x =[-0.03744617  0.03394489  0.05195897]\n",
      "\n",
      "Solución final: x = [-0.03744615  0.03394488  0.05195896]\n",
      "Residual final: 7.404592356190499e-07\n"
     ]
    }
   ],
   "source": [
    "A_aux = np.array([[7, 4, 1],\n",
    "                  [1, 14, 1],\n",
    "                  [2, 0, 11]])\n",
    "A = A_aux @ A_aux.T\n",
    "b = np.array([1, 5, 6])\n",
    "x_0 = np.array([0, 0, 0])\n",
    "\n",
    "print(\"Resolviendo el sistema con Gauss-Seidel:\")\n",
    "x_sol = Gauss_Seidel(A, b, x_0, tol=1e-6)\n",
    "print(f\"\\nSolucion exacta: x ={np.linalg.solve(A, b)}\")\n",
    "print(f\"\\nSolución final: x = {x_sol}\")\n",
    "print(f\"Residual final: {np.linalg.norm(b - A @ x_sol)}\")"
   ]
  },
  {
   "cell_type": "code",
   "execution_count": null,
   "id": "e5ae7c75",
   "metadata": {},
   "outputs": [],
   "source": []
  }
 ],
 "metadata": {
  "kernelspec": {
   "display_name": "base",
   "language": "python",
   "name": "python3"
  },
  "language_info": {
   "codemirror_mode": {
    "name": "ipython",
    "version": 3
   },
   "file_extension": ".py",
   "mimetype": "text/x-python",
   "name": "python",
   "nbconvert_exporter": "python",
   "pygments_lexer": "ipython3",
   "version": "3.12.3"
  }
 },
 "nbformat": 4,
 "nbformat_minor": 5
}
