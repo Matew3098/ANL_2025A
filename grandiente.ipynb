{
 "cells": [
  {
   "cell_type": "code",
   "execution_count": null,
   "id": "a7e0a7be",
   "metadata": {},
   "outputs": [],
   "source": [
    "def metodo_gradiente(A,x0,b, tol=1e-10):\n",
    "    x = x0.copy()\n",
    "    k = 0\n",
    "    r = b - A @ x0\n",
    "    sucesion = [x]\n",
    "    residuos = [r]\n",
    "    while np.linalg.norm(r) > tol and k < 500:\n",
    "        alpha = (r @ r) / (r @ A @ r)\n",
    "        x = x +  alpha* r\n",
    "        r = b - A @ x\n",
    "        sucesion.append(x)\n",
    "        residuos.append(r) \n",
    "        k = k + 1 \n",
    "    return sucesion, residuos"
   ]
  },
  {
   "cell_type": "code",
   "execution_count": null,
   "id": "f11c6cbd",
   "metadata": {},
   "outputs": [],
   "source": [
    "import numpy as np\n",
    "Aux = np.array([[5, 1, 2, 2], \n",
    "                [1, 4, 1, 1],\n",
    "                [2, 1, 3, 1],\n",
    "                [1, 0, 1, 3]])\n",
    "A = Aux@Aux.T\n",
    "b = np.array([3, 1, 10, 2])\n",
    "x0 = np.array([0, 0, 0, 0])\n",
    "x, r = metodo_gradiente(A, x0, b)\n",
    "for k in range(len(x)):\n",
    "    print(f\"Iteración {k}: \\t\\t Vector: {x[k]} \\t\\t Norma Diferencia {np.linalg.norm(r[k])}\")"
   ]
  },
  {
   "cell_type": "code",
   "execution_count": null,
   "id": "0115ea07",
   "metadata": {},
   "outputs": [],
   "source": [
    "import matplotlib.pyplot as plt\n",
    "normas_residuos = [np.linalg.norm(res_vec) for res_vec in r]\n",
    "iteraciones = np.arange(len(normas_residuos))\n",
    "plt.scatter(iteraciones, normas_residuos, color='red', alpha=0.7)\n",
    "plt.axhline(y=0, color='red', linestyle='--', linewidth=1.5)\n",
    "plt.title('Gráfico de Residuos vs. Iteraciones')\n",
    "plt.xlabel('Iteración (Índice de los Datos)')\n",
    "plt.ylabel('Residuo')\n",
    "plt.grid(True, linestyle='--', alpha=0.6)\n",
    "plt.show()"
   ]
  },
  {
   "cell_type": "code",
   "execution_count": 37,
   "id": "1eb04987",
   "metadata": {},
   "outputs": [
    {
     "name": "stdout",
     "output_type": "stream",
     "text": [
      "Iteración 0: \t\t Vector: [0 0 0] \t\t Norma Diferencia 3.7416573867739413\n",
      "Iteración 1: \t\t Vector: [0.06140351 0.12280702 0.18421053] \t\t Norma Diferencia 0.16079212964757336\n",
      "Iteración 2: \t\t Vector: [-0.04775828  0.09551657  0.23879142] \t\t Norma Diferencia 0.5251448963893313\n",
      "Iteración 3: \t\t Vector: [-0.03914025  0.11275264  0.26464553] \t\t Norma Diferencia 0.022567316441763883\n",
      "Iteración 4: \t\t Vector: [-0.0544612   0.1089224   0.27230601] \t\t Norma Diferencia 0.07370454686164804\n",
      "Iteración 5: \t\t Vector: [-0.05325165  0.1113415   0.27593466] \t\t Norma Diferencia 0.0031673426584941096\n",
      "Iteración 6: \t\t Vector: [-0.05540196  0.11080392  0.27700981] \t\t Norma Diferencia 0.010344497805150253\n",
      "Iteración 7: \t\t Vector: [-0.0552322   0.11114345  0.27751909] \t\t Norma Diferencia 0.00044453932049015826\n",
      "Iteración 8: \t\t Vector: [-0.055534    0.111068    0.27766999] \t\t Norma Diferencia 0.0014518593410775208\n",
      "Iteración 9: \t\t Vector: [-0.05551017  0.11111565  0.27774147] \t\t Norma Diferencia 6.239148357693362e-05\n",
      "Iteración 10: \t\t Vector: [-0.05555253  0.11110506  0.27776265] \t\t Norma Diferencia 0.00020376973207829866\n",
      "Iteración 11: \t\t Vector: [-0.05554919  0.11111175  0.27777268] \t\t Norma Diferencia 8.7566994495013e-06\n",
      "Iteración 12: \t\t Vector: [-0.05555513  0.11111026  0.27777565] \t\t Norma Diferencia 2.8599260633709854e-05\n",
      "Iteración 13: \t\t Vector: [-0.05555466  0.1111112   0.27777706] \t\t Norma Diferencia 1.2290104501349559e-06\n",
      "Iteración 14: \t\t Vector: [-0.0555555   0.11111099  0.27777748] \t\t Norma Diferencia 4.013931314361214e-06\n",
      "Iteración 15: \t\t Vector: [-0.05555543  0.11111112  0.27777768] \t\t Norma Diferencia 1.7249269539078705e-07\n",
      "Iteración 16: \t\t Vector: [-0.05555555  0.11111109  0.27777774] \t\t Norma Diferencia 5.633587949462783e-07\n",
      "Iteración 17: \t\t Vector: [-0.05555554  0.11111111  0.27777776] \t\t Norma Diferencia 2.420950011289462e-08\n",
      "Iteración 18: \t\t Vector: [-0.05555555  0.11111111  0.27777777] \t\t Norma Diferencia 7.906789488790003e-08\n",
      "Iteración 19: \t\t Vector: [-0.05555555  0.11111111  0.27777778] \t\t Norma Diferencia 3.3978246503545867e-09\n",
      "Iteración 20: \t\t Vector: [-0.05555556  0.11111111  0.27777778] \t\t Norma Diferencia 1.1097257205918152e-08\n",
      "Iteración 21: \t\t Vector: [-0.05555556  0.11111111  0.27777778] \t\t Norma Diferencia 4.768866603396402e-10\n",
      "Iteración 22: \t\t Vector: [-0.05555556  0.11111111  0.27777778] \t\t Norma Diferencia 1.5575059337405651e-09\n",
      "Iteración 23: \t\t Vector: [-0.05555556  0.11111111  0.27777778] \t\t Norma Diferencia 6.693139989513675e-11\n"
     ]
    }
   ],
   "source": [
    "A = np.array([[1, 2, 3],\n",
    "              [4, 5, 6],\n",
    "              [7, 8, 9]])\n",
    "b = np.array([1, 2, 3])\n",
    "x0 = np.array([0, 0, 0])\n",
    "x, r = metodo_gradiente(A, x0, b)\n",
    "for k in range(len(x)):\n",
    "    print(f\"Iteración {k}: \\t\\t Vector: {x[k]} \\t\\t Norma Diferencia {np.linalg.norm(r[k])}\")"
   ]
  },
  {
   "cell_type": "code",
   "execution_count": null,
   "id": "9706c361",
   "metadata": {},
   "outputs": [],
   "source": [
    "import matplotlib.pyplot as plt\n",
    "normas_residuos = [np.linalg.norm(res_vec) for res_vec in r]\n",
    "iteraciones = np.arange(len(normas_residuos))\n",
    "plt.scatter(iteraciones, normas_residuos, color='red', alpha=0.7)\n",
    "plt.axhline(y=0, color='red', linestyle='--', linewidth=1.5)\n",
    "plt.title('Gráfico de Residuos vs. Iteraciones')\n",
    "plt.xlabel('Iteración (Índice de los Datos)')\n",
    "plt.ylabel('Residuo')\n",
    "plt.grid(True, linestyle='--', alpha=0.6)\n",
    "plt.show()"
   ]
  }
 ],
 "metadata": {
  "kernelspec": {
   "display_name": "base",
   "language": "python",
   "name": "python3"
  },
  "language_info": {
   "codemirror_mode": {
    "name": "ipython",
    "version": 3
   },
   "file_extension": ".py",
   "mimetype": "text/x-python",
   "name": "python",
   "nbconvert_exporter": "python",
   "pygments_lexer": "ipython3",
   "version": "3.12.3"
  }
 },
 "nbformat": 4,
 "nbformat_minor": 5
}
